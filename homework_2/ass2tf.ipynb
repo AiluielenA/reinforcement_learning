{
 "cells": [
  {
   "cell_type": "code",
   "id": "initial_id",
   "metadata": {
    "collapsed": true,
    "ExecuteTime": {
     "end_time": "2024-11-27T14:51:18.708887Z",
     "start_time": "2024-11-27T14:51:18.698917Z"
    }
   },
   "source": [
    "import gymnasium as gym\n",
    "from tensorflow.keras import models, layers, optimizers\n",
    "import tensorflow as tf\n",
    "import matplotlib.pyplot as plt\n",
    "import numpy as np\n",
    "import copy\n",
    "import random\n",
    "from collections import deque\n",
    "import os\n",
    "from time import strftime\n",
    "import csv"
   ],
   "outputs": [],
   "execution_count": 9
  },
  {
   "metadata": {
    "ExecuteTime": {
     "end_time": "2024-11-27T14:51:18.787717Z",
     "start_time": "2024-11-27T14:51:18.776178Z"
    }
   },
   "cell_type": "code",
   "source": [
    "class Logger:\n",
    "    def __init__(self):\n",
    "        # Create a unique log directory\n",
    "        self.log_dir = f\"log_{strftime(\"%Y_%m_%d-%H_%M_%S\")}\"\n",
    "        os.makedirs(self.log_dir, exist_ok=True)\n",
    "\n",
    "        # Paths for logging files\n",
    "        self.rewards_log_path = os.path.join(self.log_dir, \"rewards.csv\")\n",
    "        self.transitions_log_path = os.path.join(self.log_dir, \"transitions.csv\")\n",
    "        self.evaluation_log_path = os.path.join(self.log_dir, \"evaluation_rewards.csv\")\n",
    "        self.model_save_path = os.path.join(self.log_dir, \"trained_model.keras\")\n",
    "\n",
    "        # Initialize the CSV log files\n",
    "        with open(self.rewards_log_path, mode='w', newline='') as file:\n",
    "            writer = csv.writer(file)\n",
    "            writer.writerow([\"episode\", \"reward\"])\n",
    "\n",
    "        with open(self.transitions_log_path, mode='w', newline='') as file:\n",
    "            writer = csv.writer(file)\n",
    "            writer.writerow([\"episode\", \"state\", \"action\", \"next-state\", \"reward\", \"done\", \"truncated\"])\n",
    "\n",
    "        with open(self.evaluation_log_path, mode='w', newline='') as file:\n",
    "            writer = csv.writer(file)\n",
    "            writer.writerow([\"episode\", \"reward\"])\n",
    "\n",
    "    def log_reward(self, episode, reward):\n",
    "        with open(self.rewards_log_path, mode='a', newline='') as file:\n",
    "            writer = csv.writer(file)\n",
    "            writer.writerow([episode, reward])\n",
    "            \n",
    "    def log_eval_reward(self, episode, reward):\n",
    "        with open(self.rewards_log_path, mode='a', newline='') as file:\n",
    "            writer = csv.writer(file)\n",
    "            writer.writerow([episode, reward])\n",
    "\n",
    "    def log_transition(self, episode, state, action, next_state, reward, done, truncated):\n",
    "        with open(self.transitions_log_path, mode='a', newline='') as file:\n",
    "            writer = csv.writer(file)\n",
    "            writer.writerow([episode, state.tolist(), action, next_state.tolist(), reward, done, truncated])\n",
    "\n",
    "    def save_model(self, model):\n",
    "        model.save(self.model_save_path)"
   ],
   "id": "9d60e7f583ab3507",
   "outputs": [],
   "execution_count": 10
  },
  {
   "metadata": {
    "ExecuteTime": {
     "end_time": "2024-11-27T14:51:18.866955Z",
     "start_time": "2024-11-27T14:51:18.844715Z"
    }
   },
   "cell_type": "code",
   "source": [
    "class ExponentialDecay:\n",
    "    def __init__(self, initial_epsilon, decay_rate, min_epsilon):\n",
    "        self.initial_epsilon = initial_epsilon\n",
    "        self.current_epsilon = initial_epsilon\n",
    "        self.decay_rate = decay_rate\n",
    "        self.min_epsilon = min_epsilon\n",
    "\n",
    "    def get_value(self):\n",
    "        return max(self.current_epsilon, self.min_epsilon)\n",
    "\n",
    "    def update(self):\n",
    "        if self.current_epsilon > self.min_epsilon:\n",
    "            self.current_epsilon *= self.decay_rate\n",
    "\n",
    "\n",
    "class DQN:\n",
    "    def __init__(\n",
    "            self,\n",
    "            main_model,\n",
    "            target_model=None,\n",
    "            epsilon=None,\n",
    "            gamma=None,\n",
    "            action_space=None,\n",
    "            max_buffer=50000\n",
    "    ) -> None:\n",
    "        self.action_space = copy.deepcopy(action_space)\n",
    "        self.epsilon = epsilon\n",
    "        self.gamma = gamma\n",
    "        self.buffer_replay = deque(maxlen=max_buffer)\n",
    "        self.main_model = main_model\n",
    "        self.target_model = target_model\n",
    "        self.loss = tf.keras.losses.Huber()\n",
    "        self.optimizer = optimizers.Adam(learning_rate=0.001)\n",
    "\n",
    "    def select_action(self, state):\n",
    "        if random.random() < self.epsilon.get_value():\n",
    "            self.epsilon.update()\n",
    "            return random.choice(self.action_space)\n",
    "        else:\n",
    "            return self.select_best_action(state)\n",
    "\n",
    "    def select_best_action(self, state):\n",
    "        q_values = self.main_model.predict(state[np.newaxis], verbose=0)\n",
    "        return np.argmax(q_values)\n",
    "\n",
    "    def store_transition(self, state, action, next_state, reward, done, truncated):\n",
    "        self.buffer_replay.append((state, action, next_state, reward, done, truncated))\n",
    "\n",
    "    def sample_minibatch(self, batch_size):\n",
    "        indices = np.random.choice(len(self.buffer_replay), size=batch_size)\n",
    "        return [self.buffer_replay[idx] for idx in indices]\n",
    "\n",
    "    def train(self, batch_size=32):\n",
    "        if len(self.buffer_replay) < batch_size:\n",
    "            return\n",
    "        \n",
    "        minibatch = self.sample_minibatch(batch_size)\n",
    "        states, actions, next_states, rewards, dones, truncates = map(np.array, zip(*minibatch))\n",
    "        with tf.GradientTape() as tape:\n",
    "            next_q_values = self.target_model(next_states)\n",
    "            q_targets = np.max(next_q_values, axis=-1)\n",
    "            q_targets = rewards + (1 - (dones | truncates)) * tf.squeeze(q_targets) * self.gamma\n",
    "            current_q_values = self.main_model(states)\n",
    "            indices = tf.stack([tf.range(len(actions)), actions], axis=1)\n",
    "            q_values_selected = tf.gather_nd(current_q_values, indices)\n",
    "            loss = self.loss(q_values_selected, q_targets)\n",
    "            \n",
    "        value_grads = tape.gradient(loss, self.main_model.trainable_variables)\n",
    "        self.optimizer.apply_gradients(zip(value_grads, self.main_model.trainable_variables))\n",
    "\n",
    "    def update_target_model(self, weights=None):\n",
    "        if weights is not None:\n",
    "            self.target_model.set_weights(weights)\n",
    "        else:\n",
    "            self.target_model.set_weights(self.main_model.get_weights())\n",
    "\n",
    "\n",
    "class CreateNetwork(tf.keras.Model):\n",
    "    def __init__(self, output_dim):\n",
    "        super(CreateNetwork, self).__init__()\n",
    "        self.dens1 = layers.Dense(64, activation=tf.keras.activations.leaky_relu)\n",
    "        self.dens2 = layers.Dense(64, activation='relu')\n",
    "        self.dens3 = layers.Dense(output_dim)\n",
    "        \n",
    "    def call(self, state):\n",
    "        x = self.dens1(state)\n",
    "        x = self.dens2(x)\n",
    "        x = self.dens3(x)\n",
    "        return x\n",
    "    \n",
    "\n",
    "\n",
    "\n",
    "def train_agent(env, agent, episodes, update_target_freq, logger=None):\n",
    "    rewards = []\n",
    "\n",
    "    for episode in range(episodes):\n",
    "        state, _ = env.reset()\n",
    "        total_reward = 0\n",
    "        terminated = False\n",
    "        steps = 0\n",
    "\n",
    "        while not terminated  and steps < 1000:\n",
    "            steps +=1\n",
    "            action = agent.select_action(state)\n",
    "            next_state, reward, done, truncated, info = env.step(action)\n",
    "            agent.store_transition(state, action, next_state, reward, done, truncated)\n",
    "            agent.train(batch_size=32)\n",
    "            terminated = done or truncated\n",
    "            # Log transitions\n",
    "            # if logger:\n",
    "            #     logger.log_transition(episode,state, action, next_state, reward, done, truncated)\n",
    "                \n",
    "            state = next_state\n",
    "            total_reward += reward\n",
    "        # Log rewards\n",
    "        if logger:\n",
    "            logger.log_reward(episode, total_reward)\n",
    "            \n",
    "        # Save the model\n",
    "        # if logger:\n",
    "        #     logger.save_model(agent.main_model)\n",
    "        \n",
    "        # Update target network\n",
    "        if episode % update_target_freq == 0:\n",
    "            agent.update_target_model()\n",
    "\n",
    "        rewards.append(total_reward)\n",
    "        print(\n",
    "            f\"Episode {episode + 1}/{episodes}, Total Reward: {total_reward:.2f}, Epsilon: {agent.epsilon.get_value():.2f}, Steps: {steps}\")\n",
    "    print(f'AVG reward: {np.mean(rewards)}')\n",
    "    return rewards\n",
    "\n",
    "\n",
    "\n",
    "def evaluate_agent(env, agent, episodes, logger=None):\n",
    "    rewards = []\n",
    "    for episode in range(episodes):\n",
    "        state, _ = env.reset()\n",
    "        total_reward = 0\n",
    "        terminated = False\n",
    "        while not terminated:\n",
    "            action = agent.select_best_action(state)\n",
    "            next_state, reward, done, truncated, info = env.step(action)\n",
    "            terminated = done or truncated\n",
    "            # Log transitions\n",
    "            # if logger:\n",
    "            #     logger.log_transition(episode,state, action, next_state, reward, done, truncated)\n",
    "                \n",
    "            state = next_state\n",
    "            total_reward += reward\n",
    "        # Log rewards\n",
    "        if logger:\n",
    "            logger.log_eval_reward(episode, total_reward)\n",
    "            \n",
    "        rewards.append(total_reward)\n",
    "        print(f\"Episode {episode + 1}/{episodes}, Total Reward: {total_reward:.2f}, Steps: {steps}\")\n",
    "    env.close()\n",
    "\n",
    "    return rewards\n",
    "\n",
    "\n",
    "def plot_rewards(root_folder, rewards, title, save_fig=False):\n",
    "    plt.plot(rewards, label='Total Reward per Episode')\n",
    "    plt.xlabel('Episodes')\n",
    "    plt.ylabel('Reward')\n",
    "    plt.title(title)\n",
    "    if save_fig:\n",
    "        plt.savefig(root_folder + \"/\" + title + '_' + strftime(\"%Y_%m_%d_%H_%M_%S\") +'_' + '.png')\n",
    "    plt.legend()\n",
    "    plt.show()"
   ],
   "id": "ef723a1576aafb61",
   "outputs": [],
   "execution_count": 11
  },
  {
   "metadata": {
    "ExecuteTime": {
     "end_time": "2024-11-27T14:51:18.903622Z",
     "start_time": "2024-11-27T14:51:18.898683Z"
    }
   },
   "cell_type": "code",
   "source": [
    "env = gym.make('LunarLander-v3')\n",
    "state_dim = env.observation_space.shape[0]\n",
    "action_dim = env.action_space.n\n"
   ],
   "id": "819e2491b2883ae4",
   "outputs": [],
   "execution_count": 12
  },
  {
   "metadata": {
    "ExecuteTime": {
     "end_time": "2024-11-27T14:53:17.964766Z",
     "start_time": "2024-11-27T14:51:18.953396Z"
    }
   },
   "cell_type": "code",
   "source": [
    "# Training cell\n",
    "main_network = CreateNetwork(action_dim)\n",
    "target_network = CreateNetwork(action_dim)\n",
    "epsilon_schedule = ExponentialDecay(initial_epsilon=1.0, decay_rate=0.995, min_epsilon=0.01)\n",
    "\n",
    "agent = DQN(\n",
    "    main_model=main_network,\n",
    "    target_model=target_network,\n",
    "    epsilon=epsilon_schedule,\n",
    "    gamma=0.99,\n",
    "    action_space=list(range(action_dim))\n",
    ")\n",
    "logger = Logger()\n",
    "\n",
    "training_episodes = 1000\n",
    "training_rewards = train_agent(env=env, agent=agent, episodes=training_episodes,update_target_freq=20 ,logger=logger)\n",
    "plot_rewards(logger.log_dir, training_rewards, \"Training rewards\", True)\n"
   ],
   "id": "598101c7ae3022fc",
   "outputs": [
    {
     "name": "stdout",
     "output_type": "stream",
     "text": [
      "Episode 1/5, Total Reward: -335.63, Epsilon: 0.61, Steps: 124\n",
      "Episode 2/5, Total Reward: -106.18, Epsilon: 0.45, Steps: 110\n",
      "Episode 3/5, Total Reward: -89.56, Epsilon: 0.40, Steps: 65\n",
      "Episode 4/5, Total Reward: -283.39, Epsilon: 0.25, Steps: 282\n",
      "Episode 5/5, Total Reward: 93.23, Epsilon: 0.13, Steps: 775\n",
      "AVG reward: -144.30634505441418\n"
     ]
    },
    {
     "data": {
      "text/plain": [
       "<Figure size 640x480 with 1 Axes>"
      ],
      "image/png": "[encoded data removed]"
     },
     "metadata": {},
     "output_type": "display_data"
    }
   ],
   "execution_count": 13
  },
  {
   "metadata": {
    "ExecuteTime": {
     "end_time": "2024-11-27T14:53:18.016195Z",
     "start_time": "2024-11-27T14:53:18.012208Z"
    }
   },
   "cell_type": "code",
   "source": [
    "# Uncomment code to load model and initialize the agent\n",
    "#agent = DQN(main_model=tf.keras.models.load_model('model_name.keras'))\n",
    "#logger = Logger()\n"
   ],
   "id": "c81818c7e754cf36",
   "outputs": [],
   "execution_count": 14
  },
  {
   "metadata": {
    "ExecuteTime": {
     "end_time": "2024-11-27T14:53:26.610020Z",
     "start_time": "2024-11-27T14:53:18.099528Z"
    }
   },
   "cell_type": "code",
   "source": [
    "# Evaluation cell\n",
    "evaluation_episodes = 100\n",
    "evaluate_rewards = evaluate_agent(env=env, agent=agent, episodes=evaluation_episodes, logger=logger)\n",
    "plot_rewards(logger.log_dir,evaluate_rewards, \"Evaluation rewards\", True)"
   ],
   "id": "5ba479d02175773d",
   "outputs": [
    {
     "name": "stdout",
     "output_type": "stream",
     "text": [
      "Episode 1/1, Total Reward: -540.02, Steps: 122\n"
     ]
    },
    {
     "data": {
      "text/plain": [
       "<Figure size 640x480 with 1 Axes>"
      ],
      "image/png": "[encoded data removed]"
     },
     "metadata": {},
     "output_type": "display_data"
    }
   ],
   "execution_count": 15
  },
  {
   "metadata": {
    "ExecuteTime": {
     "end_time": "2024-11-27T14:53:26.753419Z",
     "start_time": "2024-11-27T14:53:26.742941Z"
    }
   },
   "cell_type": "code",
   "source": [
    "# Uncomment to see live action\n",
    "# env2 = gym.make('LunarLander-v3', render_mode=\"human\")\n",
    "# evaluate_rewards = evaluate_agent(env=env2, agent=agent, episodes=1, logger=None)"
   ],
   "id": "ac4d7d4502d9be56",
   "outputs": [],
   "execution_count": 16
  }
 ],
 "metadata": {
  "kernelspec": {
   "display_name": "Python 3",
   "language": "python",
   "name": "python3"
  },
  "language_info": {
   "codemirror_mode": {
    "name": "ipython",
    "version": 2
   },
   "file_extension": ".py",
   "mimetype": "text/x-python",
   "name": "python",
   "nbconvert_exporter": "python",
   "pygments_lexer": "ipython2",
   "version": "2.7.6"
  }
 },
 "nbformat": 4,
 "nbformat_minor": 5
}
